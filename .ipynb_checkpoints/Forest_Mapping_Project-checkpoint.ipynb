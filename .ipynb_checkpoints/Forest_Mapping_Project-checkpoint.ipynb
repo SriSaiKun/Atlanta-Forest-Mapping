{
 "cells": [
  {
   "cell_type": "markdown",
   "id": "59046c7b-1e3c-49be-bba8-2e94de823238",
   "metadata": {},
   "source": [
    "# Atlanta Forest Age Mapping - Fall 2025 Take-Home Project\n",
    "## Starter Notebook Template"
   ]
  },
  {
   "cell_type": "code",
   "execution_count": null,
   "id": "c5d3c782-0b5f-47ef-9989-b997e5543645",
   "metadata": {},
   "outputs": [],
   "source": [
    "import numpy as np\n",
    "import matplotlib.pyplot as plt\n",
    "import cv2\n",
    "from sklearn.cluster import KMeans\n",
    "from sklearn.model_selection import train_test_split\n",
    "from sklearn.metrics import classification_report\n",
    "\n",
    "# import rasterio\n",
    "# from rasterio.plot import show"
   ]
  },
  {
   "cell_type": "markdown",
   "id": "33228668-9960-4faa-895e-2b8e01f96bd1",
   "metadata": {},
   "source": [
    "## Load Data"
   ]
  },
  {
   "cell_type": "code",
   "execution_count": null,
   "id": "5ecf1223-458b-46b2-8cd4-dc3bab2b685e",
   "metadata": {},
   "outputs": [],
   "source": [
    "# Replace this with your own aerial imegery\n",
    "image_path = \"atlanta_1972.jpg\"\n",
    "img = cv2.imread(image_path)\n",
    "\n",
    "# convert to rgb\n",
    "img_rgb = cv2.cvtColor(img, cv2.COLOR_BGR2RGB)\n",
    "\n",
    "plt.figure(figsize=(8, 8))\n",
    "plt.title(\"Original Aerial Image\")\n",
    "plt.imshow(img_rgb)\n",
    "plt.axis(\"off\")\n",
    "plt.show()\n"
   ]
  },
  {
   "cell_type": "markdown",
   "id": "2163ee52-84c5-4df4-9ae0-1c8807d5fee9",
   "metadata": {},
   "source": [
    "# Preprocessing"
   ]
  },
  {
   "cell_type": "code",
   "execution_count": null,
   "id": "a743c44f-4bb4-43c3-8316-e80563594da2",
   "metadata": {},
   "outputs": [],
   "source": [
    "# Convert to grayscale\n",
    "gray = cv2.cvtColor(img, cv2.COLOR_BGR2GRAY)\n",
    "\n",
    "plt.figure(figsize=(8, 8))\n",
    "plt.title(\"Grayscale Image\")\n",
    "plt.imshow(gray, cmap=\"gray\")\n",
    "plt.axis(\"off\")\n",
    "plt.show()\n",
    "\n",
    "# Add preprocessing steps here: blur, histogram equalization,..."
   ]
  },
  {
   "cell_type": "markdown",
   "id": "03ae7e21-3158-40f5-895b-cad5ac77e8a3",
   "metadata": {},
   "source": [
    "# Baseline Forest Classification"
   ]
  },
  {
   "cell_type": "code",
   "execution_count": null,
   "id": "05aa21f5-f528-40da-b509-774633b506b5",
   "metadata": {},
   "outputs": [],
   "source": [
    "# Method 1: Thresholding \n",
    "# Simple global thresholding (should tweak values)\n",
    "_, thresh = cv2.threshold(gray, 120, 255, cv2.THRESH_BINARY)\n",
    "\n",
    "plt.figure(figsize=(8, 8))\n",
    "plt.title(\"Thresholding Result (Forest vs Non-Forest)\")\n",
    "plt.imshow(thresh, cmap=\"gray\")\n",
    "plt.axis(\"off\")\n",
    "plt.show()\n",
    "\n",
    "\n",
    "# Method 2: Edge/Texture (Canny Edge Detection)\n",
    "edges = cv2.Canny(gray, 100, 200)\n",
    "\n",
    "plt.figure(figsize=(8, 8))\n",
    "plt.title(\"Canny Edge Detection\")\n",
    "plt.imshow(edges, cmap=\"gray\")\n",
    "plt.axis(\"off\")\n",
    "plt.show()\n",
    "\n",
    "\n",
    "# Method 3: Clustering (K-Means on pixel intensity)\n",
    "pixels = gray.reshape(-1, 1)\n",
    "kmeans = KMeans(n_clusters=2, random_state=42).fit(pixels)\n",
    "labels = kmeans.labels_.reshape(gray.shape)\n",
    "\n",
    "plt.figure(figsize=(8, 8))\n",
    "plt.title(\"K-Means Classification (2 Clusters)\")\n",
    "plt.imshow(labels, cmap=\"gray\")\n",
    "plt.axis(\"off\")\n",
    "plt.show()\n"
   ]
  },
  {
   "cell_type": "markdown",
   "id": "48251af5-37d9-403e-b790-449ef982cc3c",
   "metadata": {},
   "source": [
    "# Machine Learning Classifier\n",
    "Example: Train a simple classifier on pixel values\n",
    "Create labels manually for a few points (forest vs non-forest)"
   ]
  },
  {
   "cell_type": "code",
   "execution_count": null,
   "id": "ca962cd0-9560-49f0-8cd6-1e33c2e0098b",
   "metadata": {},
   "outputs": [],
   "source": [
    "\n",
    "# Replace with real labels if attempting this step\n",
    "X = pixels[:5000]  # sample pixels\n",
    "y = np.random.randint(0, 2, size=5000) # (dummy data) 0=non-forest, 1=forest)\n",
    "\n",
    "X_train, X_test, y_train, y_test = train_test_split(X, y, test_size=0.2, random_state=42)\n",
    "\n",
    "from sklearn.ensemble import RandomForestClassifier\n",
    "clf = RandomForestClassifier(n_estimators=50, random_state=42)\n",
    "clf.fit(X_train, y_train)\n",
    "y_pred = clf.predict(X_test)\n",
    "\n",
    "print(\"Random Forest Classifier Report:\")\n",
    "print(classification_report(y_test, y_pred))\n",
    "\n"
   ]
  }
 ],
 "metadata": {
  "kernelspec": {
   "display_name": "Python 3 (ipykernel)",
   "language": "python",
   "name": "python3"
  },
  "language_info": {
   "codemirror_mode": {
    "name": "ipython",
    "version": 3
   },
   "file_extension": ".py",
   "mimetype": "text/x-python",
   "name": "python",
   "nbconvert_exporter": "python",
   "pygments_lexer": "ipython3",
   "version": "3.13.3"
  }
 },
 "nbformat": 4,
 "nbformat_minor": 5
}
